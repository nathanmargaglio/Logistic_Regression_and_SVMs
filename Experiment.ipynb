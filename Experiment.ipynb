{
 "cells": [
  {
   "cell_type": "code",
   "execution_count": 10,
   "metadata": {},
   "outputs": [],
   "source": [
    "import numpy as np\n",
    "from scipy.io import loadmat\n",
    "from scipy.optimize import minimize\n",
    "from random import randrange\n",
    "from sklearn.svm import SVC\n",
    "\n",
    "def preprocess():\n",
    "    \"\"\" \n",
    "     Input:\n",
    "     Although this function doesn't have any input, you are required to load\n",
    "     the MNIST data set from file 'mnist_all.mat'.\n",
    "\n",
    "     Output:\n",
    "     train_data: matrix of training set. Each row of train_data contains \n",
    "       feature vector of a image\n",
    "     train_label: vector of label corresponding to each image in the training\n",
    "       set\n",
    "     validation_data: matrix of training set. Each row of validation_data \n",
    "       contains feature vector of a image\n",
    "     validation_label: vector of label corresponding to each image in the \n",
    "       training set\n",
    "     test_data: matrix of training set. Each row of test_data contains \n",
    "       feature vector of a image\n",
    "     test_label: vector of label corresponding to each image in the testing\n",
    "       set\n",
    "    \"\"\"\n",
    "\n",
    "    mat = loadmat('mnist_all.mat')  # loads the MAT object as a Dictionary\n",
    "\n",
    "    n_feature = mat.get(\"train1\").shape[1]\n",
    "    n_sample = 0\n",
    "    for i in range(10):\n",
    "        n_sample = n_sample + mat.get(\"train\" + str(i)).shape[0]\n",
    "    n_validation = 1000\n",
    "    n_train = n_sample - 10 * n_validation\n",
    "\n",
    "    # Construct validation data\n",
    "    validation_data = np.zeros((10 * n_validation, n_feature))\n",
    "    for i in range(10):\n",
    "        validation_data[i * n_validation:(i + 1) * n_validation, :] = mat.get(\"train\" + str(i))[0:n_validation, :]\n",
    "\n",
    "    # Construct validation label\n",
    "    validation_label = np.ones((10 * n_validation, 1))\n",
    "    for i in range(10):\n",
    "        validation_label[i * n_validation:(i + 1) * n_validation, :] = i * np.ones((n_validation, 1))\n",
    "\n",
    "    # Construct training data and label\n",
    "    train_data = np.zeros((n_train, n_feature))\n",
    "    train_label = np.zeros((n_train, 1))\n",
    "    temp = 0\n",
    "    for i in range(10):\n",
    "        size_i = mat.get(\"train\" + str(i)).shape[0]\n",
    "        train_data[temp:temp + size_i - n_validation, :] = mat.get(\"train\" + str(i))[n_validation:size_i, :]\n",
    "        train_label[temp:temp + size_i - n_validation, :] = i * np.ones((size_i - n_validation, 1))\n",
    "        temp = temp + size_i - n_validation\n",
    "\n",
    "    # Construct test data and label\n",
    "    n_test = 0\n",
    "    for i in range(10):\n",
    "        n_test = n_test + mat.get(\"test\" + str(i)).shape[0]\n",
    "    test_data = np.zeros((n_test, n_feature))\n",
    "    test_label = np.zeros((n_test, 1))\n",
    "    temp = 0\n",
    "    for i in range(10):\n",
    "        size_i = mat.get(\"test\" + str(i)).shape[0]\n",
    "        test_data[temp:temp + size_i, :] = mat.get(\"test\" + str(i))\n",
    "        test_label[temp:temp + size_i, :] = i * np.ones((size_i, 1))\n",
    "        temp = temp + size_i\n",
    "\n",
    "    # Delete features which don't provide any useful information for classifiers\n",
    "    sigma = np.std(train_data, axis=0)\n",
    "    index = np.array([])\n",
    "    for i in range(n_feature):\n",
    "        if (sigma[i] > 0.001):\n",
    "            index = np.append(index, [i])\n",
    "    train_data = train_data[:, index.astype(int)]\n",
    "    validation_data = validation_data[:, index.astype(int)]\n",
    "    test_data = test_data[:, index.astype(int)]\n",
    "\n",
    "    # Scale data to 0 and 1\n",
    "    train_data /= 255.0\n",
    "    validation_data /= 255.0\n",
    "    test_data /= 255.0\n",
    "\n",
    "    return train_data, train_label, validation_data, validation_label, test_data, test_label\n",
    "\n",
    "\n",
    "def sigmoid(z):\n",
    "    return 1.0 / (1.0 + np.exp(-z))\n",
    "\n",
    "def blrObjFunction(initialWeights, *args):\n",
    "    \"\"\"\n",
    "    blrObjFunction computes 2-class Logistic Regression error function and\n",
    "    its gradient.\n",
    "\n",
    "    Input:\n",
    "        initialWeights: the weight vector (w_k) of size (D + 1) x 1\n",
    "        train_data: the data matrix of size N x D\n",
    "        labeli: the label vector (y_k) of size N x 1 where each entry can be either 0 or 1 representing the label of corresponding feature vector\n",
    "\n",
    "    Output:\n",
    "        error: the scalar value of error function of 2-class logistic regression\n",
    "        error_grad: the vector of size (D+1) x 1 representing the gradient of\n",
    "                    error function\n",
    "    \"\"\"\n",
    "    train_data, labeli = args\n",
    "\n",
    "    n_data = train_data.shape[0]\n",
    "    n_features = train_data.shape[1]\n",
    "\n",
    "    intercept = np.ones((n_data, 1))\n",
    "    x = np.hstack((intercept, train_data))\n",
    "    h = sigmoid(np.dot(x, initialWeights)).reshape(n_data, 1)\n",
    "    y = labeli\n",
    "\n",
    "    error = -sum(y * np.log(h) + (1 - y) * np.log(1 - h)) / n_data\n",
    "    error_grad = np.dot(x.T, (h - y)).reshape(n_features + 1, ) / n_data\n",
    "\n",
    "    return error, error_grad\n",
    "\n",
    "\n",
    "def blrPredict(W, data):\n",
    "    \"\"\"\n",
    "     blrObjFunction predicts the label of data given the data and parameter W\n",
    "     of Logistic Regression\n",
    "\n",
    "     Input:\n",
    "         W: the matrix of weight of size (D + 1) x 10. Each column is the weight\n",
    "         vector of a Logistic Regression classifier.\n",
    "         X: the data matrix of size N x D\n",
    "\n",
    "     Output:\n",
    "         label: vector of size N x 1 representing the predicted label of\n",
    "         corresponding feature vector given in data matrix\n",
    "\n",
    "    \"\"\"\n",
    "\n",
    "    n_data = data.shape[0]\n",
    "\n",
    "    intercept = np.ones((n_data, 1))\n",
    "    x = np.hstack((intercept, data))\n",
    "\n",
    "    label = sigmoid(np.dot(x, W))\n",
    "\n",
    "    return np.argmax(label, axis=1)"
   ]
  },
  {
   "cell_type": "code",
   "execution_count": 11,
   "metadata": {},
   "outputs": [],
   "source": [
    "\"\"\"\n",
    "Script for Logistic Regression\n",
    "\"\"\"\n",
    "train_data, train_label, validation_data, validation_label, test_data, test_label = preprocess()\n",
    "\n",
    "# number of classes\n",
    "n_class = 10\n",
    "\n",
    "# number of training samples\n",
    "n_train = train_data.shape[0]\n",
    "\n",
    "# number of features\n",
    "n_feature = train_data.shape[1]\n",
    "\n",
    "Y = np.zeros((n_train, n_class))\n",
    "for i in range(n_class):\n",
    "    Y[:, i] = (train_label == i).astype(int).ravel()\n",
    "    \n",
    "W = np.zeros((n_feature + 1, n_class))\n",
    "initialWeights = np.zeros((n_feature + 1, 1))\n",
    "opts = {'maxiter': 100}"
   ]
  },
  {
   "cell_type": "code",
   "execution_count": null,
   "metadata": {},
   "outputs": [],
   "source": [
    "# Logistic Regression with Gradient Descent\n",
    "W = np.zeros((n_feature + 1, n_class))\n",
    "initialWeights = np.zeros((n_feature + 1, 1))\n",
    "opts = {'maxiter': 100}\n",
    "for i in range(n_class):\n",
    "    print(i)\n",
    "    labeli = Y[:, i].reshape(n_train, 1)\n",
    "    args = (train_data, labeli)\n",
    "    nn_params = minimize(blrObjFunction, initialWeights, jac=True, args=args, method='CG', options=opts)\n",
    "    W[:, i] = nn_params.x.reshape((n_feature + 1,))\n",
    "    \n",
    "W.dump('params.pickle')\n",
    "# notice the use of flatten()\n",
    "\n",
    "predicted_label = blrPredict(W, train_data)\n",
    "print('\\n Training set Accuracy:' + str(100 * np.mean((predicted_label == train_label.flatten()))) + '%')\n",
    "\n",
    "# Find the accuracy on Validation Dataset\n",
    "predicted_label = blrPredict(W, validation_data)\n",
    "print('\\n Validation set Accuracy:' + str(100 * np.mean((predicted_label == validation_label.flatten()))) + '%')\n",
    "\n",
    "# Find the accuracy on Testing Dataset\n",
    "predicted_label = blrPredict(W, test_data)\n",
    "print('\\n Testing set Accuracy:' + str(100 * np.mean((predicted_label == test_label.flatten()))) + '%')"
   ]
  },
  {
   "cell_type": "code",
   "execution_count": null,
   "metadata": {},
   "outputs": [],
   "source": [
    "\"\"\"\n",
    "Script for Support Vector Machine\n",
    "\"\"\"\n",
    "\n",
    "print('\\n\\n--------------SVM-------------------\\n\\n')\n",
    "\n",
    "print(\"Linear\")\n",
    "clf = SVC(kernel='linear')\n",
    "clf.fit(train_data, train_label)\n",
    "\n",
    "predicted_label = clf.predict(train_data)\n",
    "print('\\n Training set Accuracy:' + str(100 * np.mean((predicted_label == train_label.flatten()))) + '%')\n",
    "\n",
    "# Find the accuracy on Validation Dataset\n",
    "predicted_label = clf.predict(validation_data)\n",
    "print('\\n Validation set Accuracy:' + str(100 * np.mean((predicted_label == validation_label.flatten()))) + '%')\n",
    "\n",
    "# Find the accuracy on Testing Dataset\n",
    "predicted_label = clf.predict(test_data)\n",
    "print('\\n Testing set Accuracy:' + str(100 * np.mean((predicted_label == test_label.flatten()))) + '%')"
   ]
  },
  {
   "cell_type": "code",
   "execution_count": null,
   "metadata": {},
   "outputs": [],
   "source": [
    "print(\"Radial; Gamma: 1\")\n",
    "clf = SVC(kernel='rbf', gamma=1)\n",
    "clf.fit(train_data, train_label)\n",
    "\n",
    "predicted_label = clf.predict(train_data)\n",
    "print('\\n Training set Accuracy:' + str(100 * np.mean((predicted_label == train_label.flatten()))) + '%')\n",
    "\n",
    "# Find the accuracy on Validation Dataset\n",
    "predicted_label = clf.predict(validation_data)\n",
    "print('\\n Validation set Accuracy:' + str(100 * np.mean((predicted_label == validation_label.flatten()))) + '%')\n",
    "\n",
    "# Find the accuracy on Testing Dataset\n",
    "predicted_label = clf.predict(test_data)\n",
    "print('\\n Testing set Accuracy:' + str(100 * np.mean((predicted_label == test_label.flatten()))) + '%')"
   ]
  },
  {
   "cell_type": "code",
   "execution_count": null,
   "metadata": {},
   "outputs": [],
   "source": [
    "print(\"Radial; Gamma: Default\")\n",
    "clf = SVC(kernel='rbf')\n",
    "clf.fit(train_data, train_label)\n",
    "\n",
    "predicted_label = clf.predict(train_data)\n",
    "print('\\n Training set Accuracy:' + str(100 * np.mean((predicted_label == train_label.flatten()))) + '%')\n",
    "\n",
    "# Find the accuracy on Validation Dataset\n",
    "predicted_label = clf.predict(validation_data)\n",
    "print('\\n Validation set Accuracy:' + str(100 * np.mean((predicted_label == validation_label.flatten()))) + '%')\n",
    "\n",
    "# Find the accuracy on Testing Dataset\n",
    "predicted_label = clf.predict(test_data)\n",
    "print('\\n Testing set Accuracy:' + str(100 * np.mean((predicted_label == test_label.flatten()))) + '%')"
   ]
  },
  {
   "cell_type": "code",
   "execution_count": null,
   "metadata": {},
   "outputs": [],
   "source": [
    "preds = {}\n",
    "\n",
    "for C in [100]:#[1] + list(np.arange(10, 110, 10)):\n",
    "    print(\"Radial; C:\", C)\n",
    "    clf = SVC(C=C)\n",
    "    clf.fit(train_data, train_label)\n",
    "    \n",
    "    preds[C] = {}\n",
    "\n",
    "    predicted_label = clf.predict(train_data)\n",
    "    print('\\n Training set Accuracy:' + str(100 * np.mean((predicted_label == train_label.flatten()))) + '%')\n",
    "    preds[C]['train'] = 100 * np.mean((predicted_label == train_label.flatten()))\n",
    "\n",
    "    # Find the accuracy on Validation Dataset\n",
    "    predicted_label = clf.predict(validation_data)\n",
    "    print('\\n Validation set Accuracy:' + str(100 * np.mean((predicted_label == validation_label.flatten()))) + '%')\n",
    "    preds[C]['validation'] = 100 * np.mean((predicted_label == validation_label.flatten()))\n",
    "\n",
    "    # Find the accuracy on Testing Dataset\n",
    "    predicted_label = clf.predict(test_data)\n",
    "    print('\\n Testing set Accuracy:' + str(100 * np.mean((predicted_label == test_label.flatten()))) + '%')\n",
    "    preds[C]['testing'] = 100 * np.mean((predicted_label == test_label.flatten()))"
   ]
  },
  {
   "cell_type": "markdown",
   "metadata": {},
   "source": [
    "# Processing Log"
   ]
  },
  {
   "cell_type": "code",
   "execution_count": 4,
   "metadata": {},
   "outputs": [],
   "source": [
    "accuracies = {\n",
    "    'logistic': [\n",
    "        92.724,\n",
    "        91.46,\n",
    "        92.0\n",
    "    ],\n",
    "    'svm_linear': [\n",
    "        97.286,\n",
    "        93.64,\n",
    "        93.78\n",
    "    ],\n",
    "    'svm_gamma_1': [\n",
    "        100.0,\n",
    "        15.48,\n",
    "        17.14\n",
    "    ],\n",
    "    'svm_gamma_default': [\n",
    "        94.294,\n",
    "        94.02,\n",
    "        94.42\n",
    "    ]\n",
    "}"
   ]
  },
  {
   "cell_type": "code",
   "execution_count": 5,
   "metadata": {},
   "outputs": [],
   "source": [
    "raw_log = \"\"\"\n",
    "08-11 15:20 root         INFO     \n",
    " Training set Accuracy:94.294%\n",
    "08-11 15:22 root         INFO     \n",
    " Validation set Accuracy:94.02000000000001%\n",
    "08-11 15:25 root         INFO     \n",
    " Testing set Accuracy:94.42%\n",
    "08-11 15:35 root         INFO     \n",
    " Training set Accuracy:97.13199999999999%\n",
    "08-11 15:37 root         INFO     \n",
    " Validation set Accuracy:96.17999999999999%\n",
    "08-11 15:38 root         INFO     \n",
    " Testing set Accuracy:96.1%\n",
    "08-11 15:48 root         INFO     \n",
    " Training set Accuracy:97.952%\n",
    "08-11 15:49 root         INFO     \n",
    " Validation set Accuracy:96.89999999999999%\n",
    "08-11 15:50 root         INFO     \n",
    " Testing set Accuracy:96.67%\n",
    "08-11 15:59 root         INFO     \n",
    " Training set Accuracy:98.372%\n",
    "08-11 16:00 root         INFO     \n",
    " Validation set Accuracy:97.1%\n",
    "08-11 16:02 root         INFO     \n",
    " Testing set Accuracy:97.04%\n",
    "08-11 16:11 root         INFO     \n",
    " Training set Accuracy:98.706%\n",
    "08-11 16:12 root         INFO     \n",
    " Validation set Accuracy:97.23%\n",
    "08-11 16:13 root         INFO     \n",
    " Testing set Accuracy:97.19%\n",
    "08-11 16:22 root         INFO     \n",
    " Training set Accuracy:99.002%\n",
    "08-11 16:23 root         INFO     \n",
    " Validation set Accuracy:97.31%\n",
    "08-11 16:24 root         INFO     \n",
    " Testing set Accuracy:97.19%\n",
    "08-11 16:33 root         INFO     \n",
    " Training set Accuracy:99.196%\n",
    "08-11 16:34 root         INFO     \n",
    " Validation set Accuracy:97.38%\n",
    "08-11 16:35 root         INFO     \n",
    " Testing set Accuracy:97.16%\n",
    "08-11 16:44 root         INFO     \n",
    " Training set Accuracy:99.33999999999999%\n",
    "08-11 16:45 root         INFO     \n",
    " Validation set Accuracy:97.36%\n",
    "08-11 16:46 root         INFO     \n",
    " Testing set Accuracy:97.26%\n",
    "08-11 16:55 root         INFO     \n",
    " Training set Accuracy:99.438%\n",
    "08-11 16:56 root         INFO     \n",
    " Validation set Accuracy:97.39%\n",
    "08-11 16:57 root         INFO     \n",
    " Testing set Accuracy:97.33000000000001%\n",
    "08-11 17:06 root         INFO     \n",
    " Training set Accuracy:99.542%\n",
    "08-11 17:07 root         INFO     \n",
    " Validation set Accuracy:97.36%\n",
    "08-11 17:08 root         INFO     \n",
    " Testing set Accuracy:97.34%\n",
    "08-11 17:17 root         INFO     \n",
    " Training set Accuracy:99.612%\n",
    "08-11 17:18 root         INFO     \n",
    " Validation set Accuracy:97.41%\n",
    "08-11 17:19 root         INFO     \n",
    " Testing set Accuracy:97.39999999999999% \n",
    "\"\"\""
   ]
  },
  {
   "cell_type": "code",
   "execution_count": 6,
   "metadata": {},
   "outputs": [],
   "source": [
    "Cs = [1] + list(np.arange(10, 110, 10))\n",
    "accs = []\n",
    "\n",
    "for n, row in enumerate(raw_log.split('\\n')):\n",
    "    if not n % 2:\n",
    "        _row = row.split(':')\n",
    "        if _row[0]:\n",
    "            _row = float(_row[1].split('%')[0])\n",
    "            accs.append(_row)\n",
    "\n",
    "training_accs = []\n",
    "validation_accs = []\n",
    "testing_accs = []\n",
    "for n, a in enumerate(accs):\n",
    "    if n % 3 == 0:\n",
    "        training_accs.append(a)\n",
    "    if n % 3 == 1:\n",
    "        validation_accs.append(a)\n",
    "    if n % 3 == 2:\n",
    "        testing_accs.append(a)"
   ]
  },
  {
   "cell_type": "code",
   "execution_count": 8,
   "metadata": {},
   "outputs": [],
   "source": [
    "import matplotlib.pyplot as plt\n",
    "import matplotlib.patches as mpatches"
   ]
  },
  {
   "cell_type": "code",
   "execution_count": 9,
   "metadata": {},
   "outputs": [
    {
     "data": {
      "image/png": "[encoded data removed]",
      "text/plain": [
       "<matplotlib.figure.Figure at 0x7fdfb0660860>"
      ]
     },
     "metadata": {},
     "output_type": "display_data"
    }
   ],
   "source": [
    "plt.rcParams[\"figure.figsize\"] = [10,5]\n",
    "plt.plot(Cs, training_accs, 'b-')\n",
    "plt.plot(Cs, validation_accs, 'g-')\n",
    "plt.plot(Cs, testing_accs, 'r-')\n",
    "\n",
    "training_patch = mpatches.Patch(color='b', label='Training Set')\n",
    "validation_patch = mpatches.Patch(color='g', label='Validation Set')\n",
    "testing_patch = mpatches.Patch(color='r', label='Testing Set')\n",
    "plt.legend(handles=[training_patch, validation_patch, testing_patch])\n",
    "\n",
    "plt.xticks(Cs)\n",
    "plt.ylabel(\"Accuracy (%)\")\n",
    "plt.xlabel(\"C Value\")\n",
    "plt.suptitle(\"Accuracy of Prediction using SVM with varrying C Parameter\")\n",
    "plt.savefig('fig1.png', dpi = 300)\n",
    "plt.show()"
   ]
  },
  {
   "cell_type": "markdown",
   "metadata": {},
   "source": [
    "# Multiclass Logisitic Regression"
   ]
  },
  {
   "cell_type": "code",
   "execution_count": 2,
   "metadata": {},
   "outputs": [],
   "source": [
    "train_data, train_label, validation_data, validation_label, test_data, test_label = preprocess()\n",
    "\n",
    "# number of classes\n",
    "n_class = 10\n",
    "\n",
    "# number of training samples\n",
    "n_train = train_data.shape[0]\n",
    "\n",
    "# number of features\n",
    "n_feature = train_data.shape[1]\n",
    "\n",
    "Y = np.zeros((n_train, n_class))\n",
    "for i in range(n_class):\n",
    "    Y[:, i] = (train_label == i).astype(int).ravel()\n",
    "    \n",
    "W = np.zeros((n_feature + 1, n_class))\n",
    "initialWeights = np.zeros((n_feature + 1, 1))\n",
    "opts = {'maxiter': 100}"
   ]
  },
  {
   "cell_type": "code",
   "execution_count": 96,
   "metadata": {},
   "outputs": [],
   "source": [
    "def softmax(y_linear):\n",
    "    exp = np.exp(y_linear-np.max(y_linear, axis=1).reshape((-1,1)))\n",
    "    norms = np.sum(exp, axis=1).reshape((-1,1))\n",
    "    return exp / norms\n",
    "\n",
    "def mlrObjFunction(initialWeights, *args):\n",
    "    \"\"\"\n",
    "    mlrObjFunction computes multi-class Logistic Regression error function and\n",
    "    its gradient.\n",
    "\n",
    "    Input:\n",
    "        initialWeights: the weight vector of size (D + 1) x 1\n",
    "        train_data: the data matrix of size N x D\n",
    "        labeli: the label vector of size N x 1 where each entry can be either 0 or 1\n",
    "                representing the label of corresponding feature vector\n",
    "\n",
    "    Output:\n",
    "        error: the scalar value of error function of multi-class logistic regression\n",
    "        error_grad: the vector of size (D+1) x 10 representing the gradient of\n",
    "                    error function\n",
    "    \"\"\"\n",
    "    train_data, Y = args\n",
    "\n",
    "    n_data = train_data.shape[0]\n",
    "    n_features = train_data.shape[1]\n",
    "\n",
    "    intercept = np.ones((n_data, 1))\n",
    "    x = np.hstack((intercept, train_data))\n",
    "    h = softmax(np.dot(x, initialWeights.reshape(n_features + 1, 10))).reshape(n_data, 10)\n",
    "    y = Y\n",
    "    \n",
    "    error = -sum(sum(y * np.log(h))) / n_data\n",
    "    error_grad = np.dot(x.T, (h - y)).reshape((n_features + 1)*10, ) / n_data\n",
    "\n",
    "    return error, error_grad\n",
    "\n",
    "\n",
    "def mlrPredict(W, data):\n",
    "    \"\"\"\n",
    "     mlrObjFunction predicts the label of data given the data and parameter W\n",
    "     of Logistic Regression\n",
    "\n",
    "     Input:\n",
    "         W: the matrix of weight of size (D + 1) x 10. Each column is the weight\n",
    "         vector of a Logistic Regression classifier.\n",
    "         X: the data matrix of size N x D\n",
    "\n",
    "     Output:\n",
    "         label: vector of size N x 1 representing the predicted label of\n",
    "         corresponding feature vector given in data matrix\n",
    "\n",
    "    \"\"\"\n",
    "    n_data = data.shape[0]\n",
    "\n",
    "    intercept = np.ones((n_data, 1))\n",
    "    x = np.hstack((intercept, data))\n",
    "\n",
    "    label = sigmoid(np.dot(x, W))\n",
    "\n",
    "    return np.argmax(label, axis=1)"
   ]
  },
  {
   "cell_type": "code",
   "execution_count": 97,
   "metadata": {
    "scrolled": false
   },
   "outputs": [
    {
     "name": "stdout",
     "output_type": "stream",
     "text": [
      "\n",
      " Training set Accuracy:93.448%\n",
      "\n",
      " Validation set Accuracy:92.48%\n",
      "\n",
      " Testing set Accuracy:92.55%\n"
     ]
    }
   ],
   "source": [
    "\"\"\"\n",
    "Script for Extra Credit Part\n",
    "\"\"\"\n",
    "# FOR EXTRA CREDIT ONLY\n",
    "W_b = np.zeros((n_feature + 1, n_class))\n",
    "initialWeights_b = np.zeros((n_feature + 1, n_class))\n",
    "opts_b = {'maxiter': 100}\n",
    "\n",
    "args_b = (train_data, Y)\n",
    "nn_params = minimize(mlrObjFunction, initialWeights_b, jac=True, args=args_b, method='CG', options=opts_b)\n",
    "W_b = nn_params.x.reshape((n_feature + 1, n_class))\n",
    "\n",
    "# Find the accuracy on Training Dataset\n",
    "predicted_label_b = mlrPredict(W_b, train_data)\n",
    "print('\\n Training set Accuracy:' + str(100 * np.mean((predicted_label_b == train_label.flatten()).astype(float))) + '%')\n",
    "\n",
    "# Find the accuracy on Validation Dataset\n",
    "predicted_label_b = mlrPredict(W_b, validation_data)\n",
    "print('\\n Validation set Accuracy:' + str(100 * np.mean((predicted_label_b == validation_label.flatten()).astype(float))) + '%')\n",
    "\n",
    "# Find the accuracy on Testing Dataset\n",
    "predicted_label_b = mlrPredict(W_b, test_data)\n",
    "print('\\n Testing set Accuracy:' + str(100 * np.mean((predicted_label_b == test_label.flatten()).astype(float))) + '%')\n"
   ]
  },
  {
   "cell_type": "code",
   "execution_count": 32,
   "metadata": {},
   "outputs": [
    {
     "name": "stdout",
     "output_type": "stream",
     "text": [
      "0\n"
     ]
    }
   ],
   "source": [
    "print(predicted_label_b.sum())"
   ]
  },
  {
   "cell_type": "code",
   "execution_count": 42,
   "metadata": {},
   "outputs": [
    {
     "data": {
      "text/plain": [
       "     fun: 34657.359027999584\n",
       "     jac: array([  2.00770000e+04,   1.92580000e+04,   2.00420000e+04, ...,\n",
       "        -2.35294118e-01,   2.35294118e-01,   2.35294118e-01])\n",
       " message: 'Desired error not necessarily achieved due to precision loss.'\n",
       "    nfev: 113\n",
       "     nit: 0\n",
       "    njev: 101\n",
       "  status: 2\n",
       " success: False\n",
       "       x: array([ 0.,  0.,  0., ...,  0.,  0.,  0.])"
      ]
     },
     "execution_count": 42,
     "metadata": {},
     "output_type": "execute_result"
    }
   ],
   "source": [
    "nn_params"
   ]
  },
  {
   "cell_type": "code",
   "execution_count": 72,
   "metadata": {},
   "outputs": [],
   "source": [
    "n_data = train_data.shape[0]\n",
    "n_features = train_data.shape[1]\n",
    "\n",
    "intercept = np.ones((n_data, 1))\n",
    "x = np.hstack((intercept, train_data))\n",
    "h = sigmoid(np.dot(x, initialWeights_b.reshape(n_features + 1, 10))).reshape(n_data, 10)\n",
    "y = Y\n",
    "\n",
    "error = -sum(sum(y * np.log(h)))\n",
    "error_grad = np.dot(x.T, (h - y)).reshape((n_features + 1)*10, )"
   ]
  },
  {
   "cell_type": "code",
   "execution_count": 79,
   "metadata": {},
   "outputs": [
    {
     "data": {
      "text/plain": [
       "5.0"
      ]
     },
     "execution_count": 79,
     "metadata": {},
     "output_type": "execute_result"
    }
   ],
   "source": [
    "h.sum(axis=1)[0]"
   ]
  },
  {
   "cell_type": "code",
   "execution_count": 90,
   "metadata": {},
   "outputs": [
    {
     "data": {
      "text/plain": [
       "array([[ 0.1,  0.1,  0.1, ...,  0.1,  0.1,  0.1],\n",
       "       [ 0.1,  0.1,  0.1, ...,  0.1,  0.1,  0.1],\n",
       "       [ 0.1,  0.1,  0.1, ...,  0.1,  0.1,  0.1],\n",
       "       ..., \n",
       "       [ 0.1,  0.1,  0.1, ...,  0.1,  0.1,  0.1],\n",
       "       [ 0.1,  0.1,  0.1, ...,  0.1,  0.1,  0.1],\n",
       "       [ 0.1,  0.1,  0.1, ...,  0.1,  0.1,  0.1]])"
      ]
     },
     "execution_count": 90,
     "metadata": {},
     "output_type": "execute_result"
    }
   ],
   "source": [
    "h/h.sum(axis=1)[:,None]"
   ]
  },
  {
   "cell_type": "code",
   "execution_count": 59,
   "metadata": {},
   "outputs": [],
   "source": [
    "n_data = train_data.shape[0]\n",
    "n_features = train_data.shape[1]\n",
    "\n",
    "intercept = np.ones((n_data, 1))\n",
    "x = np.hstack((intercept, train_data))\n",
    "h = sigmoid(np.dot(x, initialWeights)).reshape(n_data, 1)\n",
    "y = Y\n",
    "\n",
    "error = -sum(sum(y * np.log(h))) / n_data\n",
    "error_grad = np.dot(x.T, (h - y)).reshape((n_features + 1)*10, ) / n_data\n"
   ]
  },
  {
   "cell_type": "code",
   "execution_count": 63,
   "metadata": {},
   "outputs": [
    {
     "data": {
      "text/plain": [
       "array([[0.5],\n",
       "       [0.5],\n",
       "       [0.5],\n",
       "       ...,\n",
       "       [0.5],\n",
       "       [0.5],\n",
       "       [0.5]])"
      ]
     },
     "execution_count": 63,
     "metadata": {},
     "output_type": "execute_result"
    }
   ],
   "source": [
    "h"
   ]
  },
  {
   "cell_type": "code",
   "execution_count": 62,
   "metadata": {},
   "outputs": [
    {
     "data": {
      "text/plain": [
       "array([[1., 0., 0., ..., 0., 0., 0.],\n",
       "       [1., 0., 0., ..., 0., 0., 0.],\n",
       "       [1., 0., 0., ..., 0., 0., 0.],\n",
       "       ...,\n",
       "       [0., 0., 0., ..., 0., 0., 1.],\n",
       "       [0., 0., 0., ..., 0., 0., 1.],\n",
       "       [0., 0., 0., ..., 0., 0., 1.]])"
      ]
     },
     "execution_count": 62,
     "metadata": {},
     "output_type": "execute_result"
    }
   ],
   "source": [
    "y"
   ]
  },
  {
   "cell_type": "code",
   "execution_count": 50,
   "metadata": {},
   "outputs": [
    {
     "name": "stdout",
     "output_type": "stream",
     "text": [
      "[0. 0. 0. 0. 0. 1. 0. 0. 0. 0.]\n"
     ]
    },
    {
     "data": {
      "image/png": "[encoded data removed]",
      "text/plain": [
       "<matplotlib.figure.Figure at 0x7f0c6544ed30>"
      ]
     },
     "metadata": {},
     "output_type": "display_data"
    }
   ],
   "source": [
    "import matplotlib.pyplot as plt\n",
    "plt.imshow(np.append(train_data[rindex][5], [0]*14).reshape((27,27)))\n",
    "print(Y[rindex][5])\n",
    "plt.show()"
   ]
  },
  {
   "cell_type": "code",
   "execution_count": null,
   "metadata": {},
   "outputs": [],
   "source": []
  }
 ],
 "metadata": {
  "kernelspec": {
   "display_name": "Python 3",
   "language": "python",
   "name": "python3"
  },
  "language_info": {
   "codemirror_mode": {
    "name": "ipython",
    "version": 3
   },
   "file_extension": ".py",
   "mimetype": "text/x-python",
   "name": "python",
   "nbconvert_exporter": "python",
   "pygments_lexer": "ipython3",
   "version": "3.6.5"
  }
 },
 "nbformat": 4,
 "nbformat_minor": 2
}
